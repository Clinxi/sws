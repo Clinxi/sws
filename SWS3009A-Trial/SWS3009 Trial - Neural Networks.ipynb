{
 "cells": [
  {
   "cell_type": "markdown",
   "metadata": {},
   "source": [
    "# SWS3009 Hands On - Neural Networks\n",
    "\n",
    "Please fill in your student number and name below. Each student is to make one submission.\n",
    "\n",
    "\n",
    "## 1. Introduction\n",
    "\n",
    "The objectives of this lab are:\n",
    "\n",
    "    1. To familiarize you with how to create dense neural networks using Keras.\n",
    "    2. To familiarize you with how to encode input and output vectors for neural networks.\n",
    "    3. To give you some insight into how hyperparameters like learning rate and momentum affect training.\n",
    "    \n",
    "To save time we will train each experiment only for 50 epochs. This will lead to less than optimal results but is enough for you to make observations.\n",
    "\n",
    "**HINT: YOU CAN HIT SHIFT-ENTER TO RUN EACH CELL. NOTE THAT IF A CELL IS DEPENDENT ON A PREVIOUS CELL, YOU WILL NEED TO RUN THE PREVIOUS CELL(S) FIRST **\n",
    "\n",
    "\n",
    "## 2. The Irises Dataset\n",
    "\n",
    "We will now work again on the Irises Dataset, which we used in Lab 1, for classifying iris flowers into one of three possible types. As before we will consider four factors:\n",
    "\n",
    "    1. Sepal length in cm\n",
    "    2. Sepal width in cm\n",
    "    3. Petal length in cm\n",
    "    4. Petal width in cm\n",
    "\n",
    "In this dataset there are 150 sample points. The code below loads the dataset and prints the first 10 rows so we have an idea of what it looks like."
   ]
  },
  {
   "cell_type": "code",
   "execution_count": 1,
   "metadata": {},
   "outputs": [
    {
     "name": "stdout",
     "output_type": "stream",
     "text": [
      "First 10 rows of data:\n",
      "[[5.1 3.5 1.4 0.2]\n",
      " [4.9 3.  1.4 0.2]\n",
      " [4.7 3.2 1.3 0.2]\n",
      " [4.6 3.1 1.5 0.2]\n",
      " [5.  3.6 1.4 0.2]\n",
      " [5.4 3.9 1.7 0.4]\n",
      " [4.6 3.4 1.4 0.3]\n",
      " [5.  3.4 1.5 0.2]\n",
      " [4.4 2.9 1.4 0.2]\n",
      " [4.9 3.1 1.5 0.1]]\n"
     ]
    }
   ],
   "source": [
    "from sklearn.datasets import load_iris\n",
    "from sklearn.preprocessing import MinMaxScaler\n",
    "from sklearn.model_selection import train_test_split\n",
    "\n",
    "iris = load_iris()\n",
    "\n",
    "print(\"First 10 rows of data:\")\n",
    "print(iris.data[:10])"
   ]
  },
  {
   "cell_type": "markdown",
   "metadata": {},
   "source": [
    "### 2.2 Scaling the Data\n",
    "\n",
    "We make use of the MinMaxScaler to scale the inputs to between 0 and 1.  The code below does this and prints the first 10 rows again, to show us the difference.\n",
    "\n",
    "In the next section we will investigate what happens if we use unscaled data."
   ]
  },
  {
   "cell_type": "code",
   "execution_count": 2,
   "metadata": {},
   "outputs": [
    {
     "name": "stdout",
     "output_type": "stream",
     "text": [
      "First 10 rows of SCALED data.\n",
      "[[0.22222222 0.625      0.06779661 0.04166667]\n",
      " [0.16666667 0.41666667 0.06779661 0.04166667]\n",
      " [0.11111111 0.5        0.05084746 0.04166667]\n",
      " [0.08333333 0.45833333 0.08474576 0.04166667]\n",
      " [0.19444444 0.66666667 0.06779661 0.04166667]\n",
      " [0.30555556 0.79166667 0.11864407 0.125     ]\n",
      " [0.08333333 0.58333333 0.06779661 0.08333333]\n",
      " [0.19444444 0.58333333 0.08474576 0.04166667]\n",
      " [0.02777778 0.375      0.06779661 0.04166667]\n",
      " [0.16666667 0.45833333 0.08474576 0.        ]]\n"
     ]
    }
   ],
   "source": [
    "scaler = MinMaxScaler()\n",
    "scaler.fit(iris.data)\n",
    "X = scaler.transform(iris.data)\n",
    "\n",
    "print(\"First 10 rows of SCALED data.\")\n",
    "print(X[:10])"
   ]
  },
  {
   "cell_type": "markdown",
   "metadata": {},
   "source": [
    "### 2.3 Encoding the Targets\n",
    "\n",
    "In Lab 1 we saw that the target values (type of iris flower) is a vector from 0 to 2. We can see the 150 labels below:\n"
   ]
  },
  {
   "cell_type": "code",
   "execution_count": 3,
   "metadata": {},
   "outputs": [
    {
     "name": "stdout",
     "output_type": "stream",
     "text": [
      "[0 0 0 0 0 0 0 0 0 0 0 0 0 0 0 0 0 0 0 0 0 0 0 0 0 0 0 0 0 0 0 0 0 0 0 0 0\n",
      " 0 0 0 0 0 0 0 0 0 0 0 0 0 1 1 1 1 1 1 1 1 1 1 1 1 1 1 1 1 1 1 1 1 1 1 1 1\n",
      " 1 1 1 1 1 1 1 1 1 1 1 1 1 1 1 1 1 1 1 1 1 1 1 1 1 1 2 2 2 2 2 2 2 2 2 2 2\n",
      " 2 2 2 2 2 2 2 2 2 2 2 2 2 2 2 2 2 2 2 2 2 2 2 2 2 2 2 2 2 2 2 2 2 2 2 2 2\n",
      " 2 2]\n"
     ]
    }
   ],
   "source": [
    "print(iris.target)"
   ]
  },
  {
   "cell_type": "markdown",
   "metadata": {},
   "source": [
    "We can use this to train the neural network, but we will use \"one-hot\" encoding, where we have a vector of _n_ integers consisting of 0's and 1's.  The table below shows how one-hot encoding works:\n",
    "\n",
    "|   Value    |    One-Hot Encoding    |\n",
    "|:----------:|:----------------------:|\n",
    "| 0 | \\[1 0 0\\] |\n",
    "| 1 | \\[0 1 0\\] |\n",
    "| 2 | \\[0 0 1\\] |\n",
    "\n",
    "Keras provides the to_categorical function to create one-hot vectors:\n",
    "\n"
   ]
  },
  {
   "cell_type": "code",
   "execution_count": 4,
   "metadata": {},
   "outputs": [
    {
     "name": "stdout",
     "output_type": "stream",
     "text": [
      "[[1. 0. 0.]\n",
      " [1. 0. 0.]\n",
      " [1. 0. 0.]\n",
      " [1. 0. 0.]\n",
      " [1. 0. 0.]\n",
      " [1. 0. 0.]\n",
      " [1. 0. 0.]\n",
      " [1. 0. 0.]\n",
      " [1. 0. 0.]\n",
      " [1. 0. 0.]\n",
      " [1. 0. 0.]\n",
      " [1. 0. 0.]\n",
      " [1. 0. 0.]\n",
      " [1. 0. 0.]\n",
      " [1. 0. 0.]\n",
      " [1. 0. 0.]\n",
      " [1. 0. 0.]\n",
      " [1. 0. 0.]\n",
      " [1. 0. 0.]\n",
      " [1. 0. 0.]\n",
      " [1. 0. 0.]\n",
      " [1. 0. 0.]\n",
      " [1. 0. 0.]\n",
      " [1. 0. 0.]\n",
      " [1. 0. 0.]\n",
      " [1. 0. 0.]\n",
      " [1. 0. 0.]\n",
      " [1. 0. 0.]\n",
      " [1. 0. 0.]\n",
      " [1. 0. 0.]\n",
      " [1. 0. 0.]\n",
      " [1. 0. 0.]\n",
      " [1. 0. 0.]\n",
      " [1. 0. 0.]\n",
      " [1. 0. 0.]\n",
      " [1. 0. 0.]\n",
      " [1. 0. 0.]\n",
      " [1. 0. 0.]\n",
      " [1. 0. 0.]\n",
      " [1. 0. 0.]\n",
      " [1. 0. 0.]\n",
      " [1. 0. 0.]\n",
      " [1. 0. 0.]\n",
      " [1. 0. 0.]\n",
      " [1. 0. 0.]\n",
      " [1. 0. 0.]\n",
      " [1. 0. 0.]\n",
      " [1. 0. 0.]\n",
      " [1. 0. 0.]\n",
      " [1. 0. 0.]\n",
      " [0. 1. 0.]\n",
      " [0. 1. 0.]\n",
      " [0. 1. 0.]\n",
      " [0. 1. 0.]\n",
      " [0. 1. 0.]\n",
      " [0. 1. 0.]\n",
      " [0. 1. 0.]\n",
      " [0. 1. 0.]\n",
      " [0. 1. 0.]\n",
      " [0. 1. 0.]\n",
      " [0. 1. 0.]\n",
      " [0. 1. 0.]\n",
      " [0. 1. 0.]\n",
      " [0. 1. 0.]\n",
      " [0. 1. 0.]\n",
      " [0. 1. 0.]\n",
      " [0. 1. 0.]\n",
      " [0. 1. 0.]\n",
      " [0. 1. 0.]\n",
      " [0. 1. 0.]\n",
      " [0. 1. 0.]\n",
      " [0. 1. 0.]\n",
      " [0. 1. 0.]\n",
      " [0. 1. 0.]\n",
      " [0. 1. 0.]\n",
      " [0. 1. 0.]\n",
      " [0. 1. 0.]\n",
      " [0. 1. 0.]\n",
      " [0. 1. 0.]\n",
      " [0. 1. 0.]\n",
      " [0. 1. 0.]\n",
      " [0. 1. 0.]\n",
      " [0. 1. 0.]\n",
      " [0. 1. 0.]\n",
      " [0. 1. 0.]\n",
      " [0. 1. 0.]\n",
      " [0. 1. 0.]\n",
      " [0. 1. 0.]\n",
      " [0. 1. 0.]\n",
      " [0. 1. 0.]\n",
      " [0. 1. 0.]\n",
      " [0. 1. 0.]\n",
      " [0. 1. 0.]\n",
      " [0. 1. 0.]\n",
      " [0. 1. 0.]\n",
      " [0. 1. 0.]\n",
      " [0. 1. 0.]\n",
      " [0. 1. 0.]\n",
      " [0. 1. 0.]\n",
      " [0. 1. 0.]\n",
      " [0. 0. 1.]\n",
      " [0. 0. 1.]\n",
      " [0. 0. 1.]\n",
      " [0. 0. 1.]\n",
      " [0. 0. 1.]\n",
      " [0. 0. 1.]\n",
      " [0. 0. 1.]\n",
      " [0. 0. 1.]\n",
      " [0. 0. 1.]\n",
      " [0. 0. 1.]\n",
      " [0. 0. 1.]\n",
      " [0. 0. 1.]\n",
      " [0. 0. 1.]\n",
      " [0. 0. 1.]\n",
      " [0. 0. 1.]\n",
      " [0. 0. 1.]\n",
      " [0. 0. 1.]\n",
      " [0. 0. 1.]\n",
      " [0. 0. 1.]\n",
      " [0. 0. 1.]\n",
      " [0. 0. 1.]\n",
      " [0. 0. 1.]\n",
      " [0. 0. 1.]\n",
      " [0. 0. 1.]\n",
      " [0. 0. 1.]\n",
      " [0. 0. 1.]\n",
      " [0. 0. 1.]\n",
      " [0. 0. 1.]\n",
      " [0. 0. 1.]\n",
      " [0. 0. 1.]\n",
      " [0. 0. 1.]\n",
      " [0. 0. 1.]\n",
      " [0. 0. 1.]\n",
      " [0. 0. 1.]\n",
      " [0. 0. 1.]\n",
      " [0. 0. 1.]\n",
      " [0. 0. 1.]\n",
      " [0. 0. 1.]\n",
      " [0. 0. 1.]\n",
      " [0. 0. 1.]\n",
      " [0. 0. 1.]\n",
      " [0. 0. 1.]\n",
      " [0. 0. 1.]\n",
      " [0. 0. 1.]\n",
      " [0. 0. 1.]\n",
      " [0. 0. 1.]\n",
      " [0. 0. 1.]\n",
      " [0. 0. 1.]\n",
      " [0. 0. 1.]\n",
      " [0. 0. 1.]]\n"
     ]
    }
   ],
   "source": [
    "from tensorflow.keras.utils import to_categorical\n",
    "\n",
    "Y = to_categorical(y = iris.target, num_classes = 3)\n",
    "print(Y)"
   ]
  },
  {
   "cell_type": "markdown",
   "metadata": {},
   "source": [
    "Now let's split the data into training and testing data:\n",
    "\n"
   ]
  },
  {
   "cell_type": "code",
   "execution_count": 5,
   "metadata": {},
   "outputs": [],
   "source": [
    "X_train, X_test, Y_train, Y_test = train_test_split(X, Y, test_size = 0.2, \n",
    "                                                    random_state = 1)\n"
   ]
  },
  {
   "cell_type": "markdown",
   "metadata": {},
   "source": [
    "### 2.4 Building our Neural Network\n",
    "\n",
    "Let's now begin building a simple neural network with a single hidden layer, using the Stochastic Gradient Descent (SGD) optimizer, ReLu transfer functions for the hidden layer and softmax for the output layer.\n",
    "\n",
    "The code to do this is shown below:"
   ]
  },
  {
   "cell_type": "code",
   "execution_count": 6,
   "metadata": {},
   "outputs": [
    {
     "name": "stdout",
     "output_type": "stream",
     "text": [
      "Metal device set to: Apple M1\n"
     ]
    },
    {
     "name": "stderr",
     "output_type": "stream",
     "text": [
      "2023-05-14 13:57:26.698989: I tensorflow/core/common_runtime/pluggable_device/pluggable_device_factory.cc:305] Could not identify NUMA node of platform GPU ID 0, defaulting to 0. Your kernel may not have been built with NUMA support.\n",
      "2023-05-14 13:57:26.699102: I tensorflow/core/common_runtime/pluggable_device/pluggable_device_factory.cc:271] Created TensorFlow device (/job:localhost/replica:0/task:0/device:GPU:0 with 0 MB memory) -> physical PluggableDevice (device: 0, name: METAL, pci bus id: <undefined>)\n"
     ]
    }
   ],
   "source": [
    "from tensorflow.keras.models import Sequential\n",
    "from tensorflow.keras.layers import Dense\n",
    "from tensorflow.keras.optimizers import SGD\n",
    "\n",
    "# Create the neural network\n",
    "nn = Sequential()\n",
    "nn.add(Dense(100, input_shape = (4, ), activation = 'relu'))\n",
    "nn.add(Dense(3, activation = 'softmax'))\n",
    "\n",
    "# Create our optimizer\n",
    "sgd = SGD(learning_rate = 0.1)\n",
    "\n",
    "# 'Compile' the network to associate it with a loss function,\n",
    "# an optimizer, and what metrics we want to track\n",
    "nn.compile(loss='categorical_crossentropy', optimizer=sgd, \n",
    "          metrics = 'accuracy')"
   ]
  },
  {
   "cell_type": "markdown",
   "metadata": {},
   "source": [
    "### 2.5 Training the Neural Network\n",
    "\n",
    "As is usually the case, we can call the \"fit\" method to train the neural network for 50 epochs. We will shuffle the training data between epochs, and provide validation data."
   ]
  },
  {
   "cell_type": "code",
   "execution_count": 7,
   "metadata": {},
   "outputs": [
    {
     "name": "stdout",
     "output_type": "stream",
     "text": [
      "Epoch 1/50\n"
     ]
    },
    {
     "name": "stderr",
     "output_type": "stream",
     "text": [
      "2023-05-14 13:57:29.093779: W tensorflow/core/platform/profile_utils/cpu_utils.cc:128] Failed to get CPU frequency: 0 Hz\n",
      "2023-05-14 13:57:29.286955: I tensorflow/core/grappler/optimizers/custom_graph_optimizer_registry.cc:113] Plugin optimizer for device_type GPU is enabled.\n"
     ]
    },
    {
     "name": "stdout",
     "output_type": "stream",
     "text": [
      "4/4 [==============================] - 0s 44ms/step - loss: 1.0889 - accuracy: 0.3333 - val_loss: 1.0494 - val_accuracy: 0.5667\n",
      "Epoch 2/50\n",
      "4/4 [==============================] - 0s 12ms/step - loss: 1.0071 - accuracy: 0.6667 - val_loss: 1.0175 - val_accuracy: 0.5667\n",
      "Epoch 3/50\n",
      "4/4 [==============================] - 0s 12ms/step - loss: 0.9432 - accuracy: 0.6750 - val_loss: 0.9673 - val_accuracy: 0.5667\n",
      "Epoch 4/50\n",
      "4/4 [==============================] - 0s 12ms/step - loss: 0.8982 - accuracy: 0.6917 - val_loss: 0.9236 - val_accuracy: 0.5667\n",
      "Epoch 5/50\n",
      "1/4 [======>.......................] - ETA: 0s - loss: 0.8916 - accuracy: 0.7500"
     ]
    },
    {
     "name": "stderr",
     "output_type": "stream",
     "text": [
      "2023-05-14 13:57:29.470874: I tensorflow/core/grappler/optimizers/custom_graph_optimizer_registry.cc:113] Plugin optimizer for device_type GPU is enabled.\n"
     ]
    },
    {
     "name": "stdout",
     "output_type": "stream",
     "text": [
      "4/4 [==============================] - 0s 12ms/step - loss: 0.8613 - accuracy: 0.6917 - val_loss: 0.9007 - val_accuracy: 0.5667\n",
      "Epoch 6/50\n",
      "4/4 [==============================] - 0s 12ms/step - loss: 0.8263 - accuracy: 0.6917 - val_loss: 0.8671 - val_accuracy: 0.5667\n",
      "Epoch 7/50\n",
      "4/4 [==============================] - 0s 11ms/step - loss: 0.7963 - accuracy: 0.6917 - val_loss: 0.8319 - val_accuracy: 0.5667\n",
      "Epoch 8/50\n",
      "4/4 [==============================] - 0s 11ms/step - loss: 0.7665 - accuracy: 0.6917 - val_loss: 0.8007 - val_accuracy: 0.5667\n",
      "Epoch 9/50\n",
      "4/4 [==============================] - 0s 12ms/step - loss: 0.7369 - accuracy: 0.6917 - val_loss: 0.7789 - val_accuracy: 0.5667\n",
      "Epoch 10/50\n",
      "4/4 [==============================] - 0s 13ms/step - loss: 0.7116 - accuracy: 0.6917 - val_loss: 0.7458 - val_accuracy: 0.5667\n",
      "Epoch 11/50\n",
      "4/4 [==============================] - 0s 12ms/step - loss: 0.6839 - accuracy: 0.6917 - val_loss: 0.7180 - val_accuracy: 0.6000\n",
      "Epoch 12/50\n",
      "4/4 [==============================] - 0s 12ms/step - loss: 0.6627 - accuracy: 0.7083 - val_loss: 0.6953 - val_accuracy: 0.6000\n",
      "Epoch 13/50\n",
      "4/4 [==============================] - 0s 13ms/step - loss: 0.6394 - accuracy: 0.7167 - val_loss: 0.6715 - val_accuracy: 0.6000\n",
      "Epoch 14/50\n",
      "4/4 [==============================] - 0s 13ms/step - loss: 0.6192 - accuracy: 0.7167 - val_loss: 0.6541 - val_accuracy: 0.6000\n",
      "Epoch 15/50\n",
      "4/4 [==============================] - 0s 18ms/step - loss: 0.6009 - accuracy: 0.7250 - val_loss: 0.6359 - val_accuracy: 0.6000\n",
      "Epoch 16/50\n",
      "4/4 [==============================] - 0s 17ms/step - loss: 0.5833 - accuracy: 0.7333 - val_loss: 0.6237 - val_accuracy: 0.6000\n",
      "Epoch 17/50\n",
      "4/4 [==============================] - 0s 13ms/step - loss: 0.5703 - accuracy: 0.7250 - val_loss: 0.5885 - val_accuracy: 0.6000\n",
      "Epoch 18/50\n",
      "4/4 [==============================] - 0s 14ms/step - loss: 0.5550 - accuracy: 0.7917 - val_loss: 0.5807 - val_accuracy: 0.6000\n",
      "Epoch 19/50\n",
      "4/4 [==============================] - 0s 13ms/step - loss: 0.5376 - accuracy: 0.7500 - val_loss: 0.5650 - val_accuracy: 0.6000\n",
      "Epoch 20/50\n",
      "4/4 [==============================] - 0s 13ms/step - loss: 0.5272 - accuracy: 0.7500 - val_loss: 0.5466 - val_accuracy: 0.6667\n",
      "Epoch 21/50\n",
      "4/4 [==============================] - 0s 13ms/step - loss: 0.5139 - accuracy: 0.8167 - val_loss: 0.5375 - val_accuracy: 0.6667\n",
      "Epoch 22/50\n",
      "4/4 [==============================] - 0s 13ms/step - loss: 0.5023 - accuracy: 0.8333 - val_loss: 0.5378 - val_accuracy: 0.6000\n",
      "Epoch 23/50\n",
      "4/4 [==============================] - 0s 13ms/step - loss: 0.4965 - accuracy: 0.7667 - val_loss: 0.5220 - val_accuracy: 0.6333\n",
      "Epoch 24/50\n",
      "4/4 [==============================] - 0s 13ms/step - loss: 0.4809 - accuracy: 0.8000 - val_loss: 0.5152 - val_accuracy: 0.6333\n",
      "Epoch 25/50\n",
      "4/4 [==============================] - 0s 14ms/step - loss: 0.4736 - accuracy: 0.8000 - val_loss: 0.4849 - val_accuracy: 0.7667\n",
      "Epoch 26/50\n",
      "4/4 [==============================] - 0s 14ms/step - loss: 0.4638 - accuracy: 0.8500 - val_loss: 0.4770 - val_accuracy: 0.7667\n",
      "Epoch 27/50\n",
      "4/4 [==============================] - 0s 13ms/step - loss: 0.4554 - accuracy: 0.8500 - val_loss: 0.4830 - val_accuracy: 0.7333\n",
      "Epoch 28/50\n",
      "4/4 [==============================] - 0s 13ms/step - loss: 0.4452 - accuracy: 0.8500 - val_loss: 0.4745 - val_accuracy: 0.7333\n",
      "Epoch 29/50\n",
      "4/4 [==============================] - 0s 13ms/step - loss: 0.4377 - accuracy: 0.8500 - val_loss: 0.4576 - val_accuracy: 0.7667\n",
      "Epoch 30/50\n",
      "4/4 [==============================] - 0s 14ms/step - loss: 0.4331 - accuracy: 0.8417 - val_loss: 0.4576 - val_accuracy: 0.7333\n",
      "Epoch 31/50\n",
      "4/4 [==============================] - 0s 13ms/step - loss: 0.4246 - accuracy: 0.8417 - val_loss: 0.4401 - val_accuracy: 0.8000\n",
      "Epoch 32/50\n",
      "4/4 [==============================] - 0s 12ms/step - loss: 0.4206 - accuracy: 0.8917 - val_loss: 0.4415 - val_accuracy: 0.7667\n",
      "Epoch 33/50\n",
      "4/4 [==============================] - 0s 13ms/step - loss: 0.4099 - accuracy: 0.8583 - val_loss: 0.4344 - val_accuracy: 0.7667\n",
      "Epoch 34/50\n",
      "4/4 [==============================] - 0s 13ms/step - loss: 0.4033 - accuracy: 0.8667 - val_loss: 0.4192 - val_accuracy: 0.8333\n",
      "Epoch 35/50\n",
      "4/4 [==============================] - 0s 24ms/step - loss: 0.3973 - accuracy: 0.8917 - val_loss: 0.4283 - val_accuracy: 0.7667\n",
      "Epoch 36/50\n",
      "4/4 [==============================] - 0s 12ms/step - loss: 0.3935 - accuracy: 0.8667 - val_loss: 0.4125 - val_accuracy: 0.8333\n",
      "Epoch 37/50\n",
      "4/4 [==============================] - 0s 13ms/step - loss: 0.3888 - accuracy: 0.8833 - val_loss: 0.4205 - val_accuracy: 0.7667\n",
      "Epoch 38/50\n",
      "4/4 [==============================] - 0s 13ms/step - loss: 0.3801 - accuracy: 0.8583 - val_loss: 0.3989 - val_accuracy: 0.8333\n",
      "Epoch 39/50\n",
      "4/4 [==============================] - 0s 13ms/step - loss: 0.3748 - accuracy: 0.8833 - val_loss: 0.3820 - val_accuracy: 0.9333\n",
      "Epoch 40/50\n",
      "4/4 [==============================] - 0s 13ms/step - loss: 0.3765 - accuracy: 0.8833 - val_loss: 0.3837 - val_accuracy: 0.9000\n",
      "Epoch 41/50\n",
      "4/4 [==============================] - 0s 12ms/step - loss: 0.3666 - accuracy: 0.8750 - val_loss: 0.3678 - val_accuracy: 0.9333\n",
      "Epoch 42/50\n",
      "4/4 [==============================] - 0s 12ms/step - loss: 0.3605 - accuracy: 0.9250 - val_loss: 0.3696 - val_accuracy: 0.9333\n",
      "Epoch 43/50\n",
      "4/4 [==============================] - 0s 13ms/step - loss: 0.3568 - accuracy: 0.9417 - val_loss: 0.3802 - val_accuracy: 0.8333\n",
      "Epoch 44/50\n",
      "4/4 [==============================] - 0s 13ms/step - loss: 0.3497 - accuracy: 0.9083 - val_loss: 0.3791 - val_accuracy: 0.8333\n",
      "Epoch 45/50\n",
      "4/4 [==============================] - 0s 19ms/step - loss: 0.3477 - accuracy: 0.9000 - val_loss: 0.3802 - val_accuracy: 0.8333\n",
      "Epoch 46/50\n",
      "4/4 [==============================] - 0s 13ms/step - loss: 0.3417 - accuracy: 0.9000 - val_loss: 0.3614 - val_accuracy: 0.8667\n",
      "Epoch 47/50\n",
      "4/4 [==============================] - 0s 13ms/step - loss: 0.3357 - accuracy: 0.9250 - val_loss: 0.3626 - val_accuracy: 0.8667\n",
      "Epoch 48/50\n",
      "4/4 [==============================] - 0s 12ms/step - loss: 0.3328 - accuracy: 0.9083 - val_loss: 0.3470 - val_accuracy: 0.9333\n",
      "Epoch 49/50\n",
      "4/4 [==============================] - 0s 12ms/step - loss: 0.3274 - accuracy: 0.9250 - val_loss: 0.3421 - val_accuracy: 0.9333\n",
      "Epoch 50/50\n",
      "4/4 [==============================] - 0s 17ms/step - loss: 0.3228 - accuracy: 0.9167 - val_loss: 0.3218 - val_accuracy: 0.9667\n"
     ]
    },
    {
     "data": {
      "text/plain": [
       "<keras.callbacks.History at 0x161c56e20>"
      ]
     },
     "execution_count": 7,
     "metadata": {},
     "output_type": "execute_result"
    }
   ],
   "source": [
    "nn.fit(X_train, Y_train, shuffle = True, epochs = 50, \n",
    "      validation_data = (X_test, Y_test))"
   ]
  },
  {
   "cell_type": "markdown",
   "metadata": {},
   "source": [
    "---\n",
    "#### Question 1\n",
    "\n",
    "Run the code above. Do you see evidence of underfitting? Overfitting? Justify your answers. ***(4 MARKS)***\n",
    "\n",
    "**Answer: Type your answer here. Do not hit return to continue to the next line, just let the text wrap around **\n",
    "\n",
    "_(For TA) Marks awarded: ____ / 4_\n",
    "\n",
    "---\n",
    "\n",
    "#### Question 2a\n",
    "\n",
    "Consult the documentation for the SGD optimizer [here](https://keras.io/api/optimizers/sgd/). What does the lr parameter do? ***(1 MARK)***\n",
    "\n",
    "**Answer: Type your answer here. Do not hit return to continue to the next line, just let the text wrap around **\n",
    "\n",
    "#### Question 2b\n",
    "\n",
    "The documentation states that the momentum parameter \"accelerates gradient descent in the relevant direction and dampens oscillations\". Using Google or other means, illustrate what this means. ***(2 MARKS)***\n",
    "\n",
    "**Answer: Type your answer here. Do not hit return to continue to the next line, just let the text wrap around **\n",
    "\n",
    "_(For TA) Marks awarded: ____ / 3_\n",
    "\n",
    "----\n",
    "\n",
    "#### Question 3a\n",
    "\n",
    "We will now play with the lr parameter. Adjust the lr parameter to the following values and record the final training and validation accuracies in the respective columns. Also observe the sequence of accuracies over the training period, and place your observation in the \"remarks\" column, e.g. \"Progresses steadily\", \"some oscillation\" etc. ***(3 MARKS)***\n",
    "\n",
    "**Answer: Fill the table below **\n",
    "\n",
    "|  lr    | Training Acc. | Validation Acc. |      Remarks      |\n",
    "|:------:|---------------|-----------------|-------------------|\n",
    "|0.01    |               |                 |                   |\n",
    "|0.1     |               |                 |                   |\n",
    "|1.0     |               |                 |                   |\n",
    "|10.0    |               |                 |                   |\n",
    "|100     |               |                 |                   |\n",
    "|1000    |               |                 |                   |\n",
    "|10000   |               |                 |                   |\n",
    "| 100000 |               |                 |                   |\n",
    "\n",
    "\n",
    "#### Question 3b\n",
    "\n",
    "Based on your observations above, comment on the effect of small and very large learning rates on the learning. ***(2 MARKS)***\n",
    "\n",
    "**Answer: Type your answer here. Do not hit return to continue to the next line, just let the text wrap around **\n",
    "\n",
    "_(For TA) Marks awarded: ____ / 5_\n",
    "\n",
    "### 2.5 Using Momentum\n",
    "\n",
    "We will now experiment with the momentum term. To do this:\n",
    "\n",
    "    1. Change the learning rate to 0.1.\n",
    "    2. Set the momentum to 0.1. Note: Do not use the Nesterov parameter - Leave it as False.\n",
    "    \n",
    "Run your neural network.\n",
    "\n",
    "---\n",
    "\n",
    "#### Question 4a\n",
    "\n",
    "Keeping the learning rate at 0.1, complete the table below using the momentum values shown. Again record any observations in the \"Remarks\" column. ***(3 MARKS)***\n",
    "\n",
    "**Answer: Fill the table below**\n",
    "\n",
    "| momentum | Training Acc. | Validation Acc. |      Remarks      |\n",
    "|:--------:|---------------|-----------------|-------------------|\n",
    "|0.001     |               |                 |                   |\n",
    "|0.01      |               |                 |                   |\n",
    "|0.1       |               |                 |                   |\n",
    "|1.0       |               |                 |                   |\n",
    "\n",
    "#### Question 4b\n",
    "\n",
    "Based on your observations above, does the momentum term help in learning? ***(2 MARKS)***\n",
    "\n",
    "**Answer: Type your answer here. Do not hit return to continue to the next line, just let the text wrap around **\n",
    "\n",
    "_(For TA) Marks awarded: ____ / 5_\n",
    "\n",
    "---\n",
    "\n",
    "### 2.6 Using Raw Unscaled Data\n",
    "\n",
    "We begin by using unscaled X and Y data. The code below will create 120 training samples and 30 testing samples (20% of the total of 150 samples):"
   ]
  },
  {
   "cell_type": "code",
   "execution_count": 8,
   "metadata": {},
   "outputs": [],
   "source": [
    "X_unscaled = iris.data\n",
    "Y_raw = iris.target\n",
    "X_utrain, X_utest, Y_utrain, Y_utest = train_test_split(X_unscaled, Y,\n",
    "                                                        test_size = 0.2,\n",
    "                                                        random_state = 1)"
   ]
  },
  {
   "cell_type": "markdown",
   "metadata": {},
   "source": [
    "---\n",
    "\n",
    "#### Question 5\n",
    "\n",
    "Create a new neural network called \"nn2\" below using a single hidden layer of 100 neurons. Train using the data in X_utrain, X_utest and validate with Y_utrain and Y_utest. Again use the SGD optimizer with a learning rate of 0.1 and no momentum, and train for 50 epochs. ***(3 marks)***"
   ]
  },
  {
   "cell_type": "code",
   "execution_count": 9,
   "metadata": {},
   "outputs": [
    {
     "data": {
      "text/plain": [
       "'\\nEnter your code for Question 5 below. To TA: 3 marks for code.\\n'"
      ]
     },
     "execution_count": 9,
     "metadata": {},
     "output_type": "execute_result"
    }
   ],
   "source": [
    "\"\"\"\n",
    "Enter your code for Question 5 below. To TA: 3 marks for code.\n",
    "\"\"\"\n",
    "\n"
   ]
  },
  {
   "cell_type": "markdown",
   "metadata": {},
   "source": [
    "**(Question 5 continues)**\n",
    "\n",
    "Observe the training and validation error. Does not scaling the input affect the training? Why do you think this is so? What is the advantage of scaling? ***(5 MARKS)***\n",
    "\n",
    "**Answer: Type your answer here. Do not hit return to continue to the next line, just let the text wrap around **\n",
    "\n",
    "_(For TA) Marks awarded: ____ / 8_\n",
    "\n",
    "---"
   ]
  },
  {
   "cell_type": "markdown",
   "metadata": {},
   "source": [
    "## 3 Conclusion\n",
    "\n",
    "In this lab we saw how to create a simple Dense neural network to complete the relatively simple task of learning how to classify irises according to their sepal and petal characteristics. \n",
    "\n",
    "\n",
    "---\n",
    "\n",
    "***FOR TA ONLY***\n",
    "\n",
    "| Question |  Marks  |\n",
    "|:--------:|:-------:|\n",
    "|1         |     /4  |\n",
    "|2         |     /3  |\n",
    "|3         |     /5  |\n",
    "|4         |     /5  |\n",
    "|5         |     /8  |\n",
    "|Total:    |     /25 |\n",
    "\n"
   ]
  },
  {
   "cell_type": "code",
   "execution_count": null,
   "metadata": {},
   "outputs": [],
   "source": []
  }
 ],
 "metadata": {
  "kernelspec": {
   "display_name": "Python 3 (ipykernel)",
   "language": "python",
   "name": "python3"
  },
  "language_info": {
   "codemirror_mode": {
    "name": "ipython",
    "version": 3
   },
   "file_extension": ".py",
   "mimetype": "text/x-python",
   "name": "python",
   "nbconvert_exporter": "python",
   "pygments_lexer": "ipython3",
   "version": "3.9.4"
  }
 },
 "nbformat": 4,
 "nbformat_minor": 4
}
